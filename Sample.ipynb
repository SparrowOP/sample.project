{
  "nbformat": 4,
  "nbformat_minor": 0,
  "metadata": {
    "colab": {
      "name": "Untitled0.ipynb",
      "provenance": [],
      "authorship_tag": "ABX9TyP/jVIdrlTxhXyEuokAprCQ",
      "include_colab_link": true
    },
    "kernelspec": {
      "name": "python3",
      "display_name": "Python 3"
    },
    "language_info": {
      "name": "python"
    }
  },
  "cells": [
    {
      "cell_type": "markdown",
      "metadata": {
        "id": "view-in-github",
        "colab_type": "text"
      },
      "source": [
        "<a href=\"https://colab.research.google.com/github/SparrowOP/sample.project/blob/main/Sample.ipynb\" target=\"_parent\"><img src=\"https://colab.research.google.com/assets/colab-badge.svg\" alt=\"Open In Colab\"/></a>"
      ]
    },
    {
      "cell_type": "code",
      "source": [
        "import numpy as np\n",
        "import pandas as pd"
      ],
      "metadata": {
        "id": "W-uTN7g0EPux"
      },
      "execution_count": 6,
      "outputs": []
    },
    {
      "cell_type": "code",
      "execution_count": 7,
      "metadata": {
        "id": "hPV002FVEOOQ"
      },
      "outputs": [],
      "source": [
        "data = pd.read_csv(\"/content/in.csv\")\n",
        "df = pd.DataFrame(data, columns= ['Volume'])\n",
        "vol = df.to_numpy()"
      ]
    },
    {
      "cell_type": "code",
      "source": [
        "mean = vol.mean()\n",
        "median = np.median(vol)\n",
        "sd = vol.std()"
      ],
      "metadata": {
        "id": "AoM7EpMVFBZE"
      },
      "execution_count": 8,
      "outputs": []
    },
    {
      "cell_type": "code",
      "source": [
        "print(\"The Median of the Volumes is :\", median)\n",
        "print(\"The Mean of the Volumes is :\", mean)\n",
        "print(\"The Standard Deviation of the Volumes is :\", sd)\n"
      ],
      "metadata": {
        "colab": {
          "base_uri": "https://localhost:8080/"
        },
        "id": "kHNIUoDPFE0B",
        "outputId": "7e92b2a5-4e5d-4013-ea08-adec1c0815ca"
      },
      "execution_count": 9,
      "outputs": [
        {
          "output_type": "stream",
          "name": "stdout",
          "text": [
            "The Median of the Volumes is : 17.0220947265625\n",
            "The Mean of the Volumes is : 163.0016845599049\n",
            "The Standard Deviation of the Volumes is : 867.0640718369505\n"
          ]
        }
      ]
    },
    {
      "cell_type": "code",
      "source": [
        ""
      ],
      "metadata": {
        "id": "InwrWdJuFOmh"
      },
      "execution_count": 9,
      "outputs": []
    }
  ]
}