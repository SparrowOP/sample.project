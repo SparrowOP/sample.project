{
  "cells": [
    {
      "cell_type": "markdown",
      "metadata": {
        "id": "view-in-github",
        "colab_type": "text"
      },
      "source": [
        "<a href=\"https://colab.research.google.com/github/SparrowOP/sample.project/blob/main/Sample.ipynb\" target=\"_parent\"><img src=\"https://colab.research.google.com/assets/colab-badge.svg\" alt=\"Open In Colab\"/></a>"
      ]
    },
    {
      "cell_type": "code",
      "execution_count": 37,
      "metadata": {
        "id": "W-uTN7g0EPux"
      },
      "outputs": [],
      "source": [
        "import numpy as np\n",
        "import pandas as pd"
      ]
    },
    {
      "cell_type": "code",
      "execution_count": 38,
      "metadata": {
        "id": "hPV002FVEOOQ"
      },
      "outputs": [],
      "source": [
        "data = pd.read_csv(\"https://raw.githubusercontent.com/SparrowOP/sample.project/main/in.csv\")\n",
        "df = pd.DataFrame(data, columns= ['Volume'])\n",
        "vol = df.to_numpy()"
      ]
    },
    {
      "cell_type": "code",
      "execution_count": 39,
      "metadata": {
        "id": "AoM7EpMVFBZE"
      },
      "outputs": [],
      "source": [
        "mean = vol.mean()\n",
        "median = np.median(vol)\n",
        "sd = vol.std()"
      ]
    },
    {
      "cell_type": "code",
      "execution_count": 40,
      "metadata": {
        "colab": {
          "base_uri": "https://localhost:8080/"
        },
        "id": "kHNIUoDPFE0B",
        "outputId": "fe7c62dc-e8ca-465e-b3c4-5b2883d191d6"
      },
      "outputs": [
        {
          "output_type": "stream",
          "name": "stdout",
          "text": [
            "The Median of the Volumes is : 17.0220947265625\n",
            "The Mean of the Volumes is : 163.0016845599049\n",
            "The Standard Deviation of the Volumes is : 867.0640718369505\n"
          ]
        }
      ],
      "source": [
        "print(\"The Median of the Volumes is :\", median)\n",
        "print(\"The Mean of the Volumes is :\", mean)\n",
        "print(\"The Standard Deviation of the Volumes is :\", sd)\n"
      ]
    }
  ],
  "metadata": {
    "colab": {
      "collapsed_sections": [],
      "name": "sample.ipynb",
      "provenance": [],
      "authorship_tag": "ABX9TyOQeM7oPXSLFQxgKt2BmeEV",
      "include_colab_link": true
    },
    "kernelspec": {
      "display_name": "Python 3",
      "name": "python3"
    },
    "language_info": {
      "name": "python"
    }
  },
  "nbformat": 4,
  "nbformat_minor": 0
}